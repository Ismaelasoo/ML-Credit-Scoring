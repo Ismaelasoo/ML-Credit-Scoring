{
 "cells": [
  {
   "cell_type": "code",
   "execution_count": 1,
   "metadata": {},
   "outputs": [],
   "source": [
    "import os\n",
    "import subprocess\n",
    "import zipfile"
   ]
  },
  {
   "cell_type": "code",
   "execution_count": 2,
   "metadata": {},
   "outputs": [
    {
     "name": "stdout",
     "output_type": "stream",
     "text": [
      "ref                                                             title                                           size  lastUpdated          downloadCount  voteCount  usabilityRating  \n",
      "--------------------------------------------------------------  ----------------------------------------------  ----  -------------------  -------------  ---------  ---------------  \n",
      "saurabhbadole/leading-indian-bank-and-cibil-real-world-dataset  Leading Indian Bank & CIBIL Real-World Dataset  16MB  2024-05-15 11:17:28            540         74  0.88235295       \n",
      "\n"
     ]
    }
   ],
   "source": [
    "# Obtener la ruta del directorio .kaggle en Windows\n",
    "directorio_kaggle = os.path.join(os.getenv('USERPROFILE'), '.kaggle')\n",
    "\n",
    "# Crear el directorio donde se alojará el token\n",
    "os.makedirs(directorio_kaggle, exist_ok=True)\n",
    "\n",
    "\n",
    "# Obtenemos la ruta donde se aloja el token\n",
    "ruta_token = os.path.join(directorio_kaggle, 'kaggle.json')\n",
    "\n",
    "# Se configura la variable de entorno para que apunte al directorio\n",
    "os.environ['KAGGLE_CONFIG_DIR'] = directorio_kaggle\n",
    "\n",
    "# Ejecución del comando de Kaggle\n",
    "resultado = subprocess.run(\n",
    "    ['kaggle', 'datasets', 'list', '-s', 'Leading Indian Bank & CIBIL Real-World Dataset'], \n",
    "    capture_output=True, \n",
    "    text=True\n",
    ")\n",
    "\n",
    "# Comprobamos resultado\n",
    "print(resultado.stdout)"
   ]
  },
  {
   "cell_type": "code",
   "execution_count": 3,
   "metadata": {},
   "outputs": [
    {
     "name": "stderr",
     "output_type": "stream",
     "text": [
      "Exception in thread Thread-8 (_readerthread):\n",
      "Traceback (most recent call last):\n",
      "  File \"C:\\Program Files\\WindowsApps\\PythonSoftwareFoundation.Python.3.11_3.11.2544.0_x64__qbz5n2kfra8p0\\Lib\\threading.py\", line 1045, in _bootstrap_inner\n",
      "    self.run()\n",
      "  File \"C:\\Users\\Ismael Laso\\AppData\\Local\\Packages\\PythonSoftwareFoundation.Python.3.11_qbz5n2kfra8p0\\LocalCache\\local-packages\\Python311\\site-packages\\ipykernel\\ipkernel.py\", line 766, in run_closure\n",
      "    _threading_Thread_run(self)\n",
      "  File \"C:\\Program Files\\WindowsApps\\PythonSoftwareFoundation.Python.3.11_3.11.2544.0_x64__qbz5n2kfra8p0\\Lib\\threading.py\", line 982, in run\n",
      "    self._target(*self._args, **self._kwargs)\n",
      "  File \"C:\\Program Files\\WindowsApps\\PythonSoftwareFoundation.Python.3.11_3.11.2544.0_x64__qbz5n2kfra8p0\\Lib\\subprocess.py\", line 1599, in _readerthread\n",
      "    buffer.append(fh.read())\n",
      "                  ^^^^^^^^^\n",
      "  File \"C:\\Program Files\\WindowsApps\\PythonSoftwareFoundation.Python.3.11_3.11.2544.0_x64__qbz5n2kfra8p0\\Lib\\encodings\\cp1252.py\", line 23, in decode\n",
      "    return codecs.charmap_decode(input,self.errors,decoding_table)[0]\n",
      "           ^^^^^^^^^^^^^^^^^^^^^^^^^^^^^^^^^^^^^^^^^^^^^^^^^^^^^^^\n",
      "UnicodeDecodeError: 'charmap' codec can't decode byte 0x8f in position 110: character maps to <undefined>\n"
     ]
    }
   ],
   "source": [
    "# Crear ruta donde se van a descargar los datasets\n",
    "ruta_descarga = os.path.join(os.getcwd(), 'data')\n",
    "\n",
    "# Se crea la carpeta en la ruta de descarga\n",
    "os.makedirs(ruta_descarga, exist_ok=True)\n",
    "\n",
    "# Obtenemos el id generado el comando de Kaggle\n",
    "id_db = 'saurabhbadole/leading-indian-bank-and-cibil-real-world-dataset'\n",
    "\n",
    "# Descargar el dataset\n",
    "resultado = subprocess.run(\n",
    "    ['kaggle', 'datasets', 'download', '-d', id_db, '-p', ruta_descarga],\n",
    "    capture_output=True,\n",
    "    text=True\n",
    ")\n",
    "\n",
    "# Ruta del archivo descargado\n",
    "nombre_zip = f\"{id_db.split('/')[-1]}.zip\"\n",
    "archivo_zip = os.path.join(ruta_descarga, nombre_zip)\n",
    "\n",
    "# Descomprensión de los archivos\n",
    "with zipfile.ZipFile(archivo_zip, 'r') as ref_zip:\n",
    "    ref_zip.extractall(ruta_descarga)\n",
    "\n",
    "# Eliminamos el archivo zip para ahorrar espacio\n",
    "os.remove(archivo_zip)"
   ]
  }
 ],
 "metadata": {
  "kernelspec": {
   "display_name": "Python 3",
   "language": "python",
   "name": "python3"
  },
  "language_info": {
   "codemirror_mode": {
    "name": "ipython",
    "version": 3
   },
   "file_extension": ".py",
   "mimetype": "text/x-python",
   "name": "python",
   "nbconvert_exporter": "python",
   "pygments_lexer": "ipython3",
   "version": "3.11.9"
  }
 },
 "nbformat": 4,
 "nbformat_minor": 2
}
