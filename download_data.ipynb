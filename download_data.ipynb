{
 "cells": [
  {
   "cell_type": "markdown",
   "metadata": {},
   "source": [
    "# DESCARGA DE DATOS"
   ]
  },
  {
   "cell_type": "markdown",
   "metadata": {},
   "source": [
    "## 1. Importación de librerías"
   ]
  },
  {
   "cell_type": "code",
   "execution_count": 4,
   "metadata": {},
   "outputs": [],
   "source": [
    "import os\n",
    "import subprocess\n",
    "import zipfile\n",
    "import pandas as pd\n",
    "import joblib"
   ]
  },
  {
   "cell_type": "markdown",
   "metadata": {},
   "source": [
    "## 2. Definición de funciones"
   ]
  },
  {
   "cell_type": "code",
   "execution_count": 8,
   "metadata": {},
   "outputs": [],
   "source": [
    "# Función que transforma los archivos excel en archivos binarios para agilizar su lectura\n",
    "def excel_a_binario(archivo_excel, nombre_salida_binario):\n",
    "    ruta_excel = os.path.join(ruta_descarga, archivo_excel)\n",
    "    df = pd.read_excel(ruta_excel)\n",
    "    ruta_binario = os.path.join(ruta_descarga, nombre_salida_binario)\n",
    "    joblib.dump(df, ruta_binario)"
   ]
  },
  {
   "cell_type": "markdown",
   "metadata": {},
   "source": [
    "## 3. Uso de API"
   ]
  },
  {
   "cell_type": "code",
   "execution_count": 5,
   "metadata": {},
   "outputs": [
    {
     "name": "stdout",
     "output_type": "stream",
     "text": [
      "ref                                                             title                                           size  lastUpdated          downloadCount  voteCount  usabilityRating  \n",
      "--------------------------------------------------------------  ----------------------------------------------  ----  -------------------  -------------  ---------  ---------------  \n",
      "saurabhbadole/leading-indian-bank-and-cibil-real-world-dataset  Leading Indian Bank & CIBIL Real-World Dataset  16MB  2024-05-15 11:17:28            582         76  0.88235295       \n",
      "\n"
     ]
    }
   ],
   "source": [
    "# Obtener la ruta del directorio .kaggle en Windows\n",
    "directorio_kaggle = os.path.join(os.getenv('USERPROFILE'), '.kaggle')\n",
    "\n",
    "# Crear el directorio donde se alojará el token\n",
    "os.makedirs(directorio_kaggle, exist_ok=True)\n",
    "\n",
    "\n",
    "# Obtenemos la ruta donde se aloja el token\n",
    "ruta_token = os.path.join(directorio_kaggle, 'kaggle.json')\n",
    "\n",
    "# Se configura la variable de entorno para que apunte al directorio\n",
    "os.environ['KAGGLE_CONFIG_DIR'] = directorio_kaggle\n",
    "\n",
    "# Ejecución del comando de Kaggle\n",
    "resultado = subprocess.run(\n",
    "    ['kaggle', 'datasets', 'list', '-s', 'Leading Indian Bank & CIBIL Real-World Dataset'], \n",
    "    capture_output=True, \n",
    "    text=True\n",
    ")\n",
    "\n",
    "# Comprobamos resultado\n",
    "print(resultado.stdout)"
   ]
  },
  {
   "cell_type": "code",
   "execution_count": 6,
   "metadata": {},
   "outputs": [
    {
     "name": "stderr",
     "output_type": "stream",
     "text": [
      "Exception in thread Thread-148 (_readerthread):\n",
      "Traceback (most recent call last):\n",
      "  File \"C:\\Program Files\\WindowsApps\\PythonSoftwareFoundation.Python.3.11_3.11.2544.0_x64__qbz5n2kfra8p0\\Lib\\threading.py\", line 1045, in _bootstrap_inner\n",
      "    self.run()\n",
      "  File \"C:\\Users\\Ismael Laso\\AppData\\Local\\Packages\\PythonSoftwareFoundation.Python.3.11_qbz5n2kfra8p0\\LocalCache\\local-packages\\Python311\\site-packages\\ipykernel\\ipkernel.py\", line 766, in run_closure\n",
      "    _threading_Thread_run(self)\n",
      "  File \"C:\\Program Files\\WindowsApps\\PythonSoftwareFoundation.Python.3.11_3.11.2544.0_x64__qbz5n2kfra8p0\\Lib\\threading.py\", line 982, in run\n",
      "    self._target(*self._args, **self._kwargs)\n",
      "  File \"C:\\Program Files\\WindowsApps\\PythonSoftwareFoundation.Python.3.11_3.11.2544.0_x64__qbz5n2kfra8p0\\Lib\\subprocess.py\", line 1599, in _readerthread\n",
      "    buffer.append(fh.read())\n",
      "                  ^^^^^^^^^\n",
      "  File \"C:\\Program Files\\WindowsApps\\PythonSoftwareFoundation.Python.3.11_3.11.2544.0_x64__qbz5n2kfra8p0\\Lib\\encodings\\cp1252.py\", line 23, in decode\n",
      "    return codecs.charmap_decode(input,self.errors,decoding_table)[0]\n",
      "           ^^^^^^^^^^^^^^^^^^^^^^^^^^^^^^^^^^^^^^^^^^^^^^^^^^^^^^^\n",
      "UnicodeDecodeError: 'charmap' codec can't decode byte 0x8d in position 238: character maps to <undefined>\n"
     ]
    }
   ],
   "source": [
    "# Crear ruta donde se van a descargar los datasets\n",
    "ruta_descarga = os.path.join(os.getcwd(), 'data')\n",
    "\n",
    "# Se crea la carpeta en la ruta de descarga\n",
    "os.makedirs(ruta_descarga, exist_ok=True)\n",
    "\n",
    "# Obtenemos el id generado el comando de Kaggle\n",
    "id_db = 'saurabhbadole/leading-indian-bank-and-cibil-real-world-dataset'\n",
    "\n",
    "# Descargar el dataset\n",
    "resultado = subprocess.run(\n",
    "    ['kaggle', 'datasets', 'download', '-d', id_db, '-p', ruta_descarga],\n",
    "    capture_output=True,\n",
    "    text=True\n",
    ")\n",
    "\n",
    "# Ruta del archivo descargado\n",
    "nombre_zip = f\"{id_db.split('/')[-1]}.zip\"\n",
    "archivo_zip = os.path.join(ruta_descarga, nombre_zip)\n",
    "\n",
    "# Descomprensión de los archivos\n",
    "with zipfile.ZipFile(archivo_zip, 'r') as ref_zip:\n",
    "    ref_zip.extractall(ruta_descarga)\n",
    "\n",
    "# Eliminamos el archivo zip para ahorrar espacio\n",
    "os.remove(archivo_zip)"
   ]
  },
  {
   "cell_type": "code",
   "execution_count": null,
   "metadata": {},
   "outputs": [],
   "source": [
    "# Usamos la función para transfromar los datos a formato binario\n",
    "excel_a_binario('External_Cibil_Dataset.xlsx', 'External_Cibil_Dataset.pkl')\n",
    "excel_a_binario('Internal_Bank_Dataset.xlsx', 'Internal_Bank_Dataset.pkl')"
   ]
  }
 ],
 "metadata": {
  "kernelspec": {
   "display_name": "Python 3",
   "language": "python",
   "name": "python3"
  },
  "language_info": {
   "codemirror_mode": {
    "name": "ipython",
    "version": 3
   },
   "file_extension": ".py",
   "mimetype": "text/x-python",
   "name": "python",
   "nbconvert_exporter": "python",
   "pygments_lexer": "ipython3",
   "version": "3.11.9"
  }
 },
 "nbformat": 4,
 "nbformat_minor": 2
}
