{
 "cells": [
  {
   "cell_type": "markdown",
   "metadata": {},
   "source": [
    "# INTERNAL DATASET"
   ]
  },
  {
   "cell_type": "markdown",
   "metadata": {},
   "source": [
    "Este dataset contiene información detallada sobre los préstamos (TL, por sus siglas en inglés \"Total Loans\") de un individuo, proveniente de los registros del Credit Information Bureau (India) Limited (CIBIL) y recopilados por un banco. Incluye detalles sobre el estado de los préstamos, su antigüedad, el cumplimiento de los pagos y otra información relevante para la evaluación del riesgo crediticio. Las variables incluidas son las siguientes:Este dataset contiene información interna detallada sobre los préstamos (TL, por sus siglas en inglés \"Total Loans\") de un individuo, proveniente de los registros del Credit Information Bureau (India) Limited (CIBIL) y recopilados por un banco. Incluye detalles sobre el estado de los préstamos, su antigüedad, el cumplimiento de los pagos y otra información relevante para la evaluación del riesgo crediticio. Las variables incluidas son las siguientes:"
   ]
  },
  {
   "cell_type": "code",
   "execution_count": null,
   "metadata": {},
   "outputs": [],
   "source": [
    "# # Cargar los datos en un dataframe\n",
    "# internal = pd.read_excel('data/Internal_Bank_Dataset.xlsx')\n",
    "\n",
    "# # Remplazamos el valor asignado como nulo para que no afecta al EDA\n",
    "# internal.replace(-99999, np.nan, inplace=True)"
   ]
  },
  {
   "cell_type": "code",
   "execution_count": null,
   "metadata": {},
   "outputs": [],
   "source": [
    "# # Visualizamos 5 primeras y 5 últimas líneas del dataframe\n",
    "# print(head_tail(internal, 5))\n",
    "# print(\"=\"*100)\n",
    "\n",
    "# # Resumen estadístico de los datos numéricos\n",
    "# print(internal.describe())"
   ]
  },
  {
   "cell_type": "code",
   "execution_count": null,
   "metadata": {},
   "outputs": [],
   "source": [
    "# # Función que muestra la estructura de cada variable\n",
    "# for col in internal.columns.tolist():\n",
    "#     describe_columna(internal, col)"
   ]
  }
 ],
 "metadata": {
  "kernelspec": {
   "display_name": "Python 3",
   "language": "python",
   "name": "python3"
  },
  "language_info": {
   "codemirror_mode": {
    "name": "ipython",
    "version": 3
   },
   "file_extension": ".py",
   "mimetype": "text/x-python",
   "name": "python",
   "nbconvert_exporter": "python",
   "pygments_lexer": "ipython3",
   "version": "3.11.9"
  }
 },
 "nbformat": 4,
 "nbformat_minor": 2
}
